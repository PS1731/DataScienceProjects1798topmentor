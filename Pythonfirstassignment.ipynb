{
 "cells": [
  {
   "cell_type": "code",
   "execution_count": 1,
   "id": "132303b5-b596-4021-8cbc-3f0a895bbd7c",
   "metadata": {},
   "outputs": [],
   "source": [
    "#### This is First Python Assignment ####"
   ]
  },
  {
   "cell_type": "code",
   "execution_count": 6,
   "id": "ad2cde89-0acb-4ff1-88b8-68d135aa086a",
   "metadata": {},
   "outputs": [
    {
     "name": "stdout",
     "output_type": "stream",
     "text": [
      "Hi This is my first assignment in python\n"
     ]
    }
   ],
   "source": [
    "###1.Simple Message: Store a message in a variable, and then print that message.\n",
    "a = 'Hi This is my first assignment in python'\n",
    "print(a)"
   ]
  },
  {
   "cell_type": "code",
   "execution_count": 8,
   "id": "4157b7b9-d05b-476b-8990-1af21df6bf5a",
   "metadata": {},
   "outputs": [
    {
     "name": "stdout",
     "output_type": "stream",
     "text": [
      "This is old message\n",
      "This is new message\n"
     ]
    }
   ],
   "source": [
    "#####2. Store a message in a variable and print that message.\n",
    "###Then change the value of your variable to a new message\n",
    "###and print the new message.\n",
    "a=\"This is old message\"\n",
    "print(a)\n",
    "a=\"This is new message\"\n",
    "print(a)"
   ]
  },
  {
   "cell_type": "code",
   "execution_count": 70,
   "id": "a300c6e0-63c8-49f8-8068-fed6215ebffc",
   "metadata": {},
   "outputs": [
    {
     "name": "stdout",
     "output_type": "stream",
     "text": [
      "Hello Eric, would you like to learn some Python today?\n"
     ]
    }
   ],
   "source": [
    "####3. Store a person’s name in a variable and print a message\n",
    "##to that person. Your message should be simple, such as,\n",
    "##“Hello Eric, would you like to learn some Python today?”\n",
    "a = \"Eric\"\n",
    "print('Hello ' + a + ', would you like to learn some Python today?')"
   ]
  },
  {
   "cell_type": "code",
   "execution_count": 29,
   "id": "25ea33eb-d3ec-4ecd-b148-17e473ed8fd1",
   "metadata": {},
   "outputs": [
    {
     "name": "stdout",
     "output_type": "stream",
     "text": [
      "My Dad once said,\"to stay positive and courageous in life no matter how god tests us\"\n"
     ]
    }
   ],
   "source": [
    "####4. Find a quote from a famous person you admire. \n",
    "#Print the quote and the name of its author. \n",
    "#Your output should look something like the following,\n",
    "#including the quotation marks: Albert Einstein once said,\n",
    "#“A person who never made a mistake never tried anything new.”\n",
    "\n",
    "author= 'My Dad'\n",
    "quote= 'to stay positive and courageous in life no matter how god tests us'\n",
    "print(f\"{author} once said,\\\"{quote}\\\"\")"
   ]
  },
  {
   "cell_type": "code",
   "execution_count": 32,
   "id": "7492aa11-11cc-407d-945c-6fa9ab272670",
   "metadata": {},
   "outputs": [
    {
     "name": "stdout",
     "output_type": "stream",
     "text": [
      "Albert Einstein once said,\"A person who never made a mistake never tried anything new.\"\n"
     ]
    }
   ],
   "source": [
    "####5. Repeat Exercise 4, but this time store \n",
    "#the famous person’s name in a variable called famous_person.\n",
    "#Then compose your message and store it in a new variable \n",
    "#called message. Print your message.\n",
    "famous_person = 'Albert Einstein'\n",
    "quote = 'A person who never made a mistake never tried anything new.'\n",
    "message = f\"{famous_person} once said,\\\"{ quote}\\\"\"\n",
    "print(message)"
   ]
  },
  {
   "cell_type": "code",
   "execution_count": 36,
   "id": "b1fc6e1f-9798-45e4-b8a4-c1eedd237661",
   "metadata": {},
   "outputs": [
    {
     "name": "stdout",
     "output_type": "stream",
     "text": [
      "8\n",
      "8\n",
      "8\n",
      "8\n"
     ]
    }
   ],
   "source": [
    "####6. Write addition, subtraction, multiplication, and division\n",
    "#operations that each result in the number 8.\n",
    "#Be sure to enclose your operations in print statements to see\n",
    "#the results. You should create four lines that look like \n",
    "#this: print (5 + 3)\n",
    "#Your output should simply be four lines with the number 8\n",
    "#appearing once on each line.\n",
    "#addition of 2 no's \n",
    "print(5+3)\n",
    "#substraction  of 2 no's\n",
    "print(10-2)\n",
    "#multiplication of  2 no's\n",
    "print(4*2)\n",
    "#division of 2 no's\n",
    "print(int(16/2))"
   ]
  },
  {
   "cell_type": "code",
   "execution_count": 53,
   "id": "c4e6d9c7-7a2d-4cea-8be2-9377f178b1ef",
   "metadata": {},
   "outputs": [
    {
     "name": "stdout",
     "output_type": "stream",
     "text": [
      "My favorite number is 17.\n"
     ]
    }
   ],
   "source": [
    "####7. Store your favourite number in a variable.\n",
    "#Then, using that variable, create a message that\n",
    "#reveals your favourite number. Print that message.\n",
    "#creating number variable to store 17\n",
    "number = 17\n",
    "#Creating and assigning message variable with a line revealing fav number.\n",
    "message = f\"My favorite number is {number}.\"\n",
    "#printing message\n",
    "print(message)"
   ]
  },
  {
   "cell_type": "code",
   "execution_count": 54,
   "id": "d95f7145-5666-4a29-8bf8-a74370daa155",
   "metadata": {},
   "outputs": [],
   "source": [
    "####8. Choose two of the programs you’ve written and add \n",
    "#at least one comment to each. If you don’t have anything \n",
    "#specific to write because your programs are too simple at this\n",
    "#point, just add your name and the current date at the top of\n",
    "#each program file. Then write one sentence describing what\n",
    "#the program does.\n",
    "# Answer -----added for 7 and 6 programs\n",
    "## SRAVYA PASHAM##\n",
    "## 20:09:2025##\n",
    "### This is our pyhton program practice assignments.##"
   ]
  },
  {
   "cell_type": "code",
   "execution_count": 55,
   "id": "9da958fb-a87a-4c7b-80cb-2488d9f27df8",
   "metadata": {},
   "outputs": [
    {
     "name": "stdout",
     "output_type": "stream",
     "text": [
      "Sravya\n",
      "Shirideesh\n",
      "Shreshta\n",
      "Rajesh\n",
      "Shuban\n",
      "Deepika\n"
     ]
    }
   ],
   "source": [
    "####9. Store the names of a few of your friends in a \n",
    "#list called names. Print each person’s name by accessing \n",
    "#each element in the list, one at a time.\n",
    "names =['Sravya','Shirideesh','Shreshta','Rajesh','Shuban','Deepika']\n",
    "print(names[0])\n",
    "print(names[1])\n",
    "print(names[2])\n",
    "print(names[3])\n",
    "print(names[4])\n",
    "print(names[5])"
   ]
  },
  {
   "cell_type": "code",
   "execution_count": 62,
   "id": "18d32d9f-f107-4412-8fe1-4508d51eb39d",
   "metadata": {},
   "outputs": [
    {
     "name": "stdout",
     "output_type": "stream",
     "text": [
      "Sravya \"how are you doing today\"\n",
      "Shirideesh \"how are you doing today\"\n",
      "Shreshta \"how are you doing today\"\n",
      "Rajesh \"how are you doing today\"\n",
      "Shuban \"how are you doing today\"\n",
      "Deepika \"how are you doing today\"\n"
     ]
    }
   ],
   "source": [
    "###10. Start with the list you used in Exercise 9, \n",
    "#but instead of just printing each person’s name,\n",
    "#print a message to them. The text of each message should be the\n",
    "#same, but each message should be personalized with the\n",
    "#person’s name.\n",
    "names =['Sravya','Shirideesh','Shreshta','Rajesh','Shuban','Deepika']\n",
    "message = \"how are you doing today\"\n",
    "print(f\"{names[0]} \\\"{message}\\\"\")\n",
    "print(f\"{names[1]} \\\"{message}\\\"\")\n",
    "print(f\"{names[2]} \\\"{message}\\\"\")\n",
    "print(f\"{names[3]} \\\"{message}\\\"\")\n",
    "print(f\"{names[4]} \\\"{message}\\\"\")\n",
    "print(f\"{names[5]} \\\"{message}\\\"\")"
   ]
  },
  {
   "cell_type": "code",
   "execution_count": 69,
   "id": "d083dc8d-6505-483f-9e66-24663ac3f1c9",
   "metadata": {},
   "outputs": [
    {
     "name": "stdout",
     "output_type": "stream",
     "text": [
      "I would love to drive car\n",
      "I like Honda bike bike \n",
      "I took a ship trip last year\n",
      "I travel in  bus on daily basis\n",
      "I would love to travel in  aeroplane once in a year\n"
     ]
    }
   ],
   "source": [
    "####11. Think of your favourite mode of transportation, \n",
    "#such as a motorcycle or a car, and make a list that stores\n",
    "#several examples. Use your list to print a series of \n",
    "#statements about these items, such as “I would like to\n",
    "#own a Honda motorcycle.”\n",
    "modeoftransportation =['car','bike','ship','bus','aeroplane']\n",
    "print(f\"I would love to drive {modeoftransportation[0]}\")\n",
    "print(f\"I like Honda {modeoftransportation[1]} bike \")\n",
    "print(f\"I took a {modeoftransportation[2]} trip last year\")\n",
    "print(f\"I travel in  {modeoftransportation[3]} on daily basis\")\n",
    "print(f\"I would love to travel in  {modeoftransportation[4]} once in a year\")"
   ]
  },
  {
   "cell_type": "code",
   "execution_count": null,
   "id": "99784333-4854-405c-af90-8d0d7285d520",
   "metadata": {},
   "outputs": [],
   "source": []
  }
 ],
 "metadata": {
  "kernelspec": {
   "display_name": "anaconda-panel-2023.05-py310",
   "language": "python",
   "name": "conda-env-anaconda-panel-2023.05-py310-py"
  },
  "language_info": {
   "codemirror_mode": {
    "name": "ipython",
    "version": 3
   },
   "file_extension": ".py",
   "mimetype": "text/x-python",
   "name": "python",
   "nbconvert_exporter": "python",
   "pygments_lexer": "ipython3",
   "version": "3.11.5"
  }
 },
 "nbformat": 4,
 "nbformat_minor": 5
}
